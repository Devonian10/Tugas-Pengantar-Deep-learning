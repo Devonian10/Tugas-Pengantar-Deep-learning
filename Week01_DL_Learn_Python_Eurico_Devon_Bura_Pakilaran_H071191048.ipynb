{
  "nbformat": 4,
  "nbformat_minor": 0,
  "metadata": {
    "colab": {
      "name": "Week01-DL-Learn Python-Eurico Devon Bura Pakilaran_H071191048.ipynb",
      "provenance": [],
      "collapsed_sections": [],
      "toc_visible": true
    },
    "kernelspec": {
      "name": "python3",
      "display_name": "Python 3"
    },
    "language_info": {
      "name": "python"
    }
  },
  "cells": [
    {
      "cell_type": "markdown",
      "source": [
        "# Nama : Eurico Devon Bura Pakilaran\n",
        "# NIM : H071191048\n",
        "# Prodi : Ilmu komputer\n",
        "# Universitas Hasanuddin 2019"
      ],
      "metadata": {
        "id": "4h8xODfx0j4Z"
      }
    },
    {
      "cell_type": "markdown",
      "source": [
        "# 1. Hello Python World"
      ],
      "metadata": {
        "id": "CNDPjLOy16PQ"
      }
    },
    {
      "cell_type": "code",
      "execution_count": null,
      "metadata": {
        "id": "jaWUdw-xZ5wV",
        "colab": {
          "base_uri": "https://localhost:8080/"
        },
        "outputId": "be0d8242-21a7-4b4b-be27-d15968923c01"
      },
      "outputs": [
        {
          "output_type": "stream",
          "name": "stdout",
          "text": [
            "Hello world\n"
          ]
        }
      ],
      "source": [
        "#Learn Python\n",
        "#Misalkan Utk Output \n",
        "print(\"Hello world\")\n"
      ]
    },
    {
      "cell_type": "markdown",
      "source": [
        "#2. Input Output"
      ],
      "metadata": {
        "id": "-3PwaLpC2ATl"
      }
    },
    {
      "cell_type": "markdown",
      "source": [
        "# Misalkan Mau untuk sesuatu input \n",
        "membuat Variable"
      ],
      "metadata": {
        "id": "aD6wdDFroen0"
      }
    },
    {
      "cell_type": "code",
      "source": [
        "x = 5 #Untuk membuat int berupa angka\n",
        "y = \"Devon\" # Untuk membuat String\n",
        "\n",
        "print (x)\n",
        "print(y)\n",
        "\n",
        "print (x,y)\n",
        "print(type(x), type(y)) #Gunanya untuk melihat class dia dari masukan berinput data tipe apa yang gunakan\n"
      ],
      "metadata": {
        "colab": {
          "base_uri": "https://localhost:8080/"
        },
        "id": "pao6fqyToVq3",
        "outputId": "c5a8dd39-8f46-4827-97f8-908dad6ddd07"
      },
      "execution_count": null,
      "outputs": [
        {
          "output_type": "stream",
          "name": "stdout",
          "text": [
            "5\n",
            "Devon\n",
            "5 Devon\n",
            "<class 'int'> <class 'str'>\n"
          ]
        }
      ]
    },
    {
      "cell_type": "markdown",
      "source": [
        "# 3. Operation"
      ],
      "metadata": {
        "id": "jD43dHqv2Ff_"
      }
    },
    {
      "cell_type": "markdown",
      "source": [
        "# Misalkan Saya mau melakukan operasi matematika \n",
        "\n",
        "\n",
        "1.   Addition  (Penjumlahan): +\n",
        "2.   Substraction (Pengurangan): -\n",
        "3.   Multiplication (Perkalian): *\n",
        "4.   Division (Pembagian): /\n",
        "5.   Modules (Persen): %\n",
        "6.   Exponentiation (Eksponensial/pangkat): **\n",
        "\n",
        "\n"
      ],
      "metadata": {
        "id": "cIiOMuYF2bJr"
      }
    },
    {
      "cell_type": "code",
      "source": [
        "#Contoh misalkan saya mau input nilai int atau float\n",
        "#Operasi Penjumlahan\n",
        "x = 5\n",
        "x2 = 6\n",
        "x3 = 7\n",
        "x4 = 4\n",
        "x += 50\n",
        "print(x)\n",
        "\n",
        "#operasi Pengurangan \n",
        "x2 -= 30\n",
        "print(x2)\n",
        "\n",
        "#operasi Perkalian\n",
        "x3 *= 40 * 4\n",
        "print(x3)\n",
        "\n",
        "#operasi Pembagian\n",
        "x3 /= 5\n",
        "print(int(x3))\n",
        "\n",
        "#Operasi Pangkat/Eksponensial \n",
        "x3 **= 5\n",
        "print(int(x3))\n",
        "\n"
      ],
      "metadata": {
        "id": "SYhXqQoj2gRG",
        "colab": {
          "base_uri": "https://localhost:8080/"
        },
        "outputId": "840862c1-c533-426a-fa22-44323d74ec34"
      },
      "execution_count": null,
      "outputs": [
        {
          "output_type": "stream",
          "name": "stdout",
          "text": [
            "55\n",
            "-24\n",
            "1120\n",
            "224\n",
            "563949338624\n"
          ]
        }
      ]
    },
    {
      "cell_type": "markdown",
      "source": [
        "# 4. Boolean\n",
        "\n",
        "Bagaimana dengan Menentukan True Or False\n"
      ],
      "metadata": {
        "id": "rZS2mD203Wrj"
      }
    },
    {
      "cell_type": "code",
      "source": [
        "x = \"Hello Devon\"\n",
        "y = 52.3\n",
        "\n",
        "print(bool(x))\n",
        "print(bool(y))\n",
        "\n",
        "x2 = \"\"\n",
        "y2 = []\n",
        "\n",
        "print(bool(x2))\n",
        "print(bool(y2))"
      ],
      "metadata": {
        "id": "IBGbm64T3WR5",
        "colab": {
          "base_uri": "https://localhost:8080/"
        },
        "outputId": "ed095437-2286-4ccd-915f-f6a877d28b83"
      },
      "execution_count": null,
      "outputs": [
        {
          "output_type": "stream",
          "name": "stdout",
          "text": [
            "True\n",
            "True\n",
            "False\n",
            "False\n"
          ]
        }
      ]
    },
    {
      "cell_type": "markdown",
      "source": [
        "# Bagaimana dengan if elif\n",
        "disini pada cotoh if elif itu bagaimana"
      ],
      "metadata": {
        "id": "Gv_uZYH63sXK"
      }
    },
    {
      "cell_type": "code",
      "source": [
        "a = 5 #int\n",
        "b = 4.5 #Float\n",
        "\n",
        "if (a > b):\n",
        "  print(\"Lebih besar\")\n",
        "elif (a < b):\n",
        "  print(\"lebih kecil\")\n",
        "\n",
        "print()"
      ],
      "metadata": {
        "colab": {
          "base_uri": "https://localhost:8080/"
        },
        "id": "8O8msZI1qKAC",
        "outputId": "9f641705-cf50-4e39-c515-2e96be87c7ca"
      },
      "execution_count": null,
      "outputs": [
        {
          "output_type": "stream",
          "name": "stdout",
          "text": [
            "Lebih besar\n",
            "\n"
          ]
        }
      ]
    },
    {
      "cell_type": "markdown",
      "source": [
        "Bagaimana Dengan fungsi bisa kembali boolean"
      ],
      "metadata": {
        "id": "htIYjJ6Tc7zg"
      }
    },
    {
      "cell_type": "code",
      "source": [
        "def main():\n",
        "  return True\n",
        "\n",
        "if main():\n",
        "  print(\"YES\")\n",
        "\n",
        "else:\n",
        "  print(\"NO\")\n"
      ],
      "metadata": {
        "colab": {
          "base_uri": "https://localhost:8080/"
        },
        "id": "rbLh0ZUEdBpK",
        "outputId": "b32871b9-0170-471b-cebb-775683a2daf9"
      },
      "execution_count": null,
      "outputs": [
        {
          "output_type": "stream",
          "name": "stdout",
          "text": [
            "YES\n"
          ]
        }
      ]
    },
    {
      "cell_type": "markdown",
      "source": [
        "# Python Lists\n",
        "List"
      ],
      "metadata": {
        "id": "l20rP26gemrL"
      }
    },
    {
      "cell_type": "code",
      "source": [
        "fruit = [\"Apple\", \"Grape\", \"Pear\"]\n",
        "print(fruit)"
      ],
      "metadata": {
        "colab": {
          "base_uri": "https://localhost:8080/"
        },
        "id": "_PplUi2jemOu",
        "outputId": "0563f499-29a6-4d45-951e-4c8301f122ea"
      },
      "execution_count": null,
      "outputs": [
        {
          "output_type": "stream",
          "name": "stdout",
          "text": [
            "['Apple', 'Grape', 'Pear']\n"
          ]
        }
      ]
    },
    {
      "cell_type": "markdown",
      "source": [
        "Allow Duplicate"
      ],
      "metadata": {
        "id": "EjLRK1KzgKrn"
      }
    },
    {
      "cell_type": "code",
      "source": [
        "thelistfruit= [\"Apple\", \"Grape\", \"Watermelon\", \"Apple\", \"Banana\"]\n",
        "print(thelistfruit)"
      ],
      "metadata": {
        "colab": {
          "base_uri": "https://localhost:8080/"
        },
        "id": "JFApzZw5f3Pp",
        "outputId": "deff6252-b3d2-471b-a45e-d90a3adc76a9"
      },
      "execution_count": null,
      "outputs": [
        {
          "output_type": "stream",
          "name": "stdout",
          "text": [
            "['Apple', 'Grape', 'Watermelon', 'Apple', 'Banana']\n"
          ]
        }
      ]
    },
    {
      "cell_type": "markdown",
      "source": [
        "List Length"
      ],
      "metadata": {
        "id": "J7mwgv52gNgb"
      }
    },
    {
      "cell_type": "code",
      "source": [
        "thelistfruit= [\"Apple\", \"Grape\", \"Watermelon\", \"Apple\", \"Banana\"]\n",
        "print(len(thelistfruit))"
      ],
      "metadata": {
        "colab": {
          "base_uri": "https://localhost:8080/"
        },
        "id": "n3zCIXZ-gNBb",
        "outputId": "9d7d8e02-c4d0-4a8c-a09e-6316d1242073"
      },
      "execution_count": null,
      "outputs": [
        {
          "output_type": "stream",
          "name": "stdout",
          "text": [
            "5\n"
          ]
        }
      ]
    },
    {
      "cell_type": "markdown",
      "source": [
        "List Item Data Type\n",
        "Contoh saya akan gunakan string int float boolean\n"
      ],
      "metadata": {
        "id": "nUzcxGqXjv0j"
      }
    },
    {
      "cell_type": "code",
      "source": [
        "list1 = [\"Jett\", \"Sage\", \"Yoru\"]\n",
        "list2 = [24,56,78,99,29]\n",
        "list3 = [24.3,45.6,4.5,55.6]\n",
        "list4 = [True, False, True, False]\n",
        "list5 = [\"abc\", 34, True, 40, \"male\"]\n",
        "print((list1))\n",
        "print((list2))\n",
        "print((list3))\n",
        "print((list4))\n",
        "print((list5))\n",
        "print(\"\")\n",
        "# Ini type untuk nama class yang akan digunakan\n",
        "print(type(list1))\n",
        "print(type(list2))\n",
        "print(type(list3))\n",
        "print(type(list4))\n",
        "print(type(list5))"
      ],
      "metadata": {
        "colab": {
          "base_uri": "https://localhost:8080/"
        },
        "id": "HnJpGrHwjzh6",
        "outputId": "2dedcbc6-c15d-402d-b585-1f7bde93c9de"
      },
      "execution_count": null,
      "outputs": [
        {
          "output_type": "stream",
          "name": "stdout",
          "text": [
            "['Jett', 'Sage', 'Yoru']\n",
            "[24, 56, 78, 99, 29]\n",
            "[24.3, 45.6, 4.5, 55.6]\n",
            "[True, False, True, False]\n",
            "['abc', 34, True, 40, 'male']\n",
            "\n",
            "<class 'list'>\n",
            "<class 'list'>\n",
            "<class 'list'>\n",
            "<class 'list'>\n",
            "<class 'list'>\n"
          ]
        }
      ]
    }
  ]
}